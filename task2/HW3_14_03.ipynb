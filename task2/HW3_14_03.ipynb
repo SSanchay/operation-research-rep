{
 "cells": [
  {
   "cell_type": "markdown",
   "metadata": {},
   "source": [
    "# Homework_3_applepen"
   ]
  },
  {
   "cell_type": "code",
   "execution_count": 325,
   "metadata": {},
   "outputs": [],
   "source": [
    "#библиотеки\n",
    "import pandas as pd\n",
    "import numpy as np\n",
    "import datetime\n",
    "import matplotlib.pyplot as plt"
   ]
  },
  {
   "cell_type": "code",
   "execution_count": 326,
   "metadata": {},
   "outputs": [],
   "source": [
    "# файлы для чтения\n",
    "inv_filename = 'out_input_MS-b1-inventory.csv'\n",
    "sell_filename = 'out_input_MS-b1-sell.csv'\n",
    "supp_filename = 'out_input_MS-b1-supply.csv'"
   ]
  },
  {
   "cell_type": "code",
   "execution_count": 364,
   "metadata": {},
   "outputs": [],
   "source": [
    "# dataframe из файлов\n",
    "inv_b1 = pd.read_csv(inv_filename, sep = ',',\n",
    "                     parse_dates = ['date'], dayfirst = True)\n",
    "sell_b1 = pd.read_csv(sell_filename, sep = ',',\n",
    "                      parse_dates = ['date'], dayfirst = True)\n",
    "supp_b1 = pd.read_csv(supp_filename, sep = ',', \n",
    "                      parse_dates = ['date'], dayfirst = True)"
   ]
  },
  {
   "cell_type": "markdown",
   "metadata": {},
   "source": [
    "# 1 задание"
   ]
  },
  {
   "cell_type": "code",
   "execution_count": null,
   "metadata": {},
   "outputs": [],
   "source": [
    "cnt_inv_b1 = 1\n",
    "cnt_inv_b1 = (sell_b1.date.max() - sell_b1.date.min()).days + 1\n",
    "\n",
    "date_every_day = pd.date_range(sell_b1.date[0], periods = cnt_inv_b1, freq='D')\n",
    "np_inv_b1_apple = np.empty(cnt_inv_b1)\n",
    "np_inv_b1_pen = np.empty(cnt_inv_b1)\n",
    "\n",
    "i = 0\n",
    "j = 0\n",
    "day_apply = 1\n",
    "day_inventory = 0\n",
    "checker = False\n",
    "for i  in range (cnt_inv_b1):    # каждый день\n",
    "    supply_val_apple = 0\n",
    "    supply_val_pen = 0\n",
    "    sum_sell_ap = 0\n",
    "    sum_sell_pe = 0\n",
    "    if i != cnt_inv_b1 - 1 :\n",
    "        if supp_b1.index.max() + 1 != day_apply and sell_b1.date[j] == supp_b1.date[day_apply] :\n",
    "                    supply_val_apple =  supp_b1.apple[day_apply]\n",
    "                    supply_val_pen = supp_b1.pen[day_apply]\n",
    "                    day_apply+=1\n",
    "                    \n",
    "        while sell_b1.date[j] == sell_b1.date[j + 1] :\n",
    "            if sell_b1.sku_num[j][6] == 'a':\n",
    "                sum_sell_ap+=1\n",
    "            else : \n",
    "                sum_sell_pe+=1\n",
    "            j+=1\n",
    "        if sell_b1.sku_num[j][6] == 'a':\n",
    "                sum_sell_ap+=1\n",
    "        else : \n",
    "                sum_sell_pe+=1\n",
    "        j+=1\n",
    "    else :\n",
    "        while j != sell_b1.index.max() + 1 :\n",
    "            if sell_b1.sku_num[j][6] == 'a':\n",
    "                sum_sell_ap+=1\n",
    "            else : \n",
    "                sum_sell_pe+=1\n",
    "            j+=1\n",
    "        j-=1\n",
    "        \n",
    "    if i != 0 :\n",
    "        if checker :\n",
    "            np_inv_b1_apple[i] = inv_b1.apple[day_inventory] - sum_sell_ap + supply_val_apple\n",
    "            np_inv_b1_pen[i] = inv_b1.pen[day_inventory] - sum_sell_pe + supply_val_pen\n",
    "            day_inventory+=1\n",
    "        else :\n",
    "            np_inv_b1_apple[i] = np_inv_b1_apple[i-1] - sum_sell_ap + supply_val_apple\n",
    "            np_inv_b1_pen[i] = np_inv_b1_pen[i-1] - sum_sell_pe + supply_val_pen\n",
    "        \n",
    "        if j != sell_b1.index.max() and sell_b1.date[j - 1] == inv_b1.date[day_inventory]:\n",
    "            checker = True\n",
    "        else :\n",
    "            checker = False\n",
    "    else :\n",
    "        np_inv_b1_apple[i] = supp_b1.apple[0] - sum_sell_ap\n",
    "        np_inv_b1_pen[i] = supp_b1.pen[0] - sum_sell_pe\n",
    "\n",
    "\n"
   ]
  },
  {
   "cell_type": "code",
   "execution_count": 328,
   "metadata": {},
   "outputs": [],
   "source": [
    "# создаем dataframe префайл 1-го задания для 1 штата\n",
    "df_day = pd.DataFrame({\n",
    "    'date' : date_every_day,\n",
    "    'apple' : np_inv_b1_apple.astype(int),\n",
    "    'pen' : np_inv_b1_pen.astype(int)\n",
    "})\n"
   ]
  },
  {
   "cell_type": "code",
   "execution_count": 329,
   "metadata": {},
   "outputs": [],
   "source": [
    "# Название файла 1 задания\n",
    "everyday_inventory = 'MS-b1-everyday_inventory.csv'"
   ]
  },
  {
   "cell_type": "code",
   "execution_count": 330,
   "metadata": {
    "scrolled": true
   },
   "outputs": [],
   "source": [
    "# Создание файла 1 задания\n",
    "df_day.to_csv (everyday_inventory, sep = ';', index = False)"
   ]
  },
  {
   "cell_type": "markdown",
   "metadata": {},
   "source": [
    "# 2 задание"
   ]
  },
  {
   "cell_type": "code",
   "execution_count": 350,
   "metadata": {
    "scrolled": true
   },
   "outputs": [
    {
     "name": "stderr",
     "output_type": "stream",
     "text": [
      "C:\\Users\\sanchai\\anaconda\\lib\\site-packages\\ipykernel_launcher.py:3: SettingWithCopyWarning: \n",
      "A value is trying to be set on a copy of a slice from a DataFrame\n",
      "\n",
      "See the caveats in the documentation: http://pandas.pydata.org/pandas-docs/stable/user_guide/indexing.html#returning-a-view-versus-a-copy\n",
      "  This is separate from the ipykernel package so we can avoid doing imports until\n",
      "C:\\Users\\sanchai\\anaconda\\lib\\site-packages\\ipykernel_launcher.py:4: SettingWithCopyWarning: \n",
      "A value is trying to be set on a copy of a slice from a DataFrame\n",
      "\n",
      "See the caveats in the documentation: http://pandas.pydata.org/pandas-docs/stable/user_guide/indexing.html#returning-a-view-versus-a-copy\n",
      "  after removing the cwd from sys.path.\n"
     ]
    }
   ],
   "source": [
    "count_steal_b1 = inv_b1.copy(deep = True)\n",
    "for i in range(inv_b1.index.max() + 1) :\n",
    "    count_steal_b1.apple[i] = df_day['apple'][df_day.date == inv_b1.date[i]] - inv_b1.apple[i]\n",
    "    count_steal_b1.pen[i] = df_day['pen'][df_day.date == inv_b1.date[i]] - inv_b1.pen[i]"
   ]
  },
  {
   "cell_type": "code",
   "execution_count": 351,
   "metadata": {},
   "outputs": [],
   "source": [
    "# Название файла 2 задания\n",
    "month_value_stolen = 'MS-b1-month_value_stolen.csv'"
   ]
  },
  {
   "cell_type": "code",
   "execution_count": 352,
   "metadata": {
    "scrolled": false
   },
   "outputs": [],
   "source": [
    "# Создание файла 2 задания\n",
    "count_steal_b1.to_csv(month_value_stolen, sep = ';', index = False)\n",
    "    "
   ]
  },
  {
   "cell_type": "markdown",
   "metadata": {},
   "source": [
    "# 3 задание"
   ]
  },
  {
   "cell_type": "code",
   "execution_count": 355,
   "metadata": {},
   "outputs": [],
   "source": [
    "every_year = pd.date_range(sell_b1.date[0], periods = 10, freq='Y')\n",
    "count = 10\n",
    "sum_year_apple = 0\n",
    "sum_year_pen = 0\n",
    "apple_stolen = np.zeros(count)\n",
    "pen_stolen = np.zeros(count)\n",
    "\n",
    "\n",
    "for i in range(count_steal_b1.index.max() + 1) :\n",
    "    sum_year_apple = sum_year_apple + count_steal_b1.apple[i]\n",
    "    sum_year_pen = sum_year_pen + count_steal_b1.pen[i]\n",
    "    if i % 11 == 0 and i != 0 :\n",
    "        apple_stolen[i//11 - 1] = sum_year_apple\n",
    "        pen_stolen[i//11 - 1] = sum_year_pen\n",
    "        sum_year_apple = 0"
   ]
  },
  {
   "cell_type": "code",
   "execution_count": 358,
   "metadata": {},
   "outputs": [],
   "source": [
    "count = 10\n",
    "sum_year_apple = 0\n",
    "sum_year_pen = 0\n",
    "apple_sold = np.zeros(count)\n",
    "pen_sold = np.zeros(count)\n",
    "e_y = 0\n",
    "\n",
    "while i != sell_b1.index.max() + 1 :\n",
    "    if sell_b1.date[i] == every_year[e_y] :\n",
    "        e_y+=1\n",
    "        while i != sell_b1.index.max() and sell_b1.date[i] == sell_b1.date[i + 1] :\n",
    "            if sell_b1.sku_num[i][6] == 'a':\n",
    "                sum_year_apple+=1\n",
    "            else :\n",
    "                sum_year_pen+=1\n",
    "            i+=1\n",
    "        if sell_b1.sku_num[i][6] == 'a':\n",
    "                sum_year_apple+=1\n",
    "        else :\n",
    "                sum_year_pen+=1\n",
    "        i+=1\n",
    "        apple_sold[e_y - 1] = sum_year_apple \n",
    "        pen_sold[e_y - 1] = sum_year_pen\n",
    "        sum_year_apple = 0\n",
    "        sum_year_pen = 0\n",
    "    else :       \n",
    "        if sell_b1.sku_num[i][6] == 'a':\n",
    "                sum_year_apple+=1\n",
    "        else : \n",
    "                sum_year_pen+=1\n",
    "        i+=1"
   ]
  },
  {
   "cell_type": "code",
   "execution_count": 361,
   "metadata": {
    "scrolled": true
   },
   "outputs": [
    {
     "data": {
      "text/html": [
       "<div>\n",
       "<style scoped>\n",
       "    .dataframe tbody tr th:only-of-type {\n",
       "        vertical-align: middle;\n",
       "    }\n",
       "\n",
       "    .dataframe tbody tr th {\n",
       "        vertical-align: top;\n",
       "    }\n",
       "\n",
       "    .dataframe thead th {\n",
       "        text-align: right;\n",
       "    }\n",
       "</style>\n",
       "<table border=\"1\" class=\"dataframe\">\n",
       "  <thead>\n",
       "    <tr style=\"text-align: right;\">\n",
       "      <th></th>\n",
       "      <th>year</th>\n",
       "      <th>apple_sold</th>\n",
       "      <th>apple_stolen</th>\n",
       "      <th>pen_sold</th>\n",
       "      <th>pen_stolen</th>\n",
       "    </tr>\n",
       "  </thead>\n",
       "  <tbody>\n",
       "    <tr>\n",
       "      <td>0</td>\n",
       "      <td>2006-12-31</td>\n",
       "      <td>681222</td>\n",
       "      <td>78</td>\n",
       "      <td>52555</td>\n",
       "      <td>91</td>\n",
       "    </tr>\n",
       "    <tr>\n",
       "      <td>1</td>\n",
       "      <td>2007-12-31</td>\n",
       "      <td>681281</td>\n",
       "      <td>56</td>\n",
       "      <td>51939</td>\n",
       "      <td>159</td>\n",
       "    </tr>\n",
       "    <tr>\n",
       "      <td>2</td>\n",
       "      <td>2008-12-31</td>\n",
       "      <td>685110</td>\n",
       "      <td>80</td>\n",
       "      <td>52032</td>\n",
       "      <td>230</td>\n",
       "    </tr>\n",
       "    <tr>\n",
       "      <td>3</td>\n",
       "      <td>2009-12-31</td>\n",
       "      <td>682296</td>\n",
       "      <td>69</td>\n",
       "      <td>52411</td>\n",
       "      <td>316</td>\n",
       "    </tr>\n",
       "    <tr>\n",
       "      <td>4</td>\n",
       "      <td>2010-12-31</td>\n",
       "      <td>680411</td>\n",
       "      <td>70</td>\n",
       "      <td>52600</td>\n",
       "      <td>392</td>\n",
       "    </tr>\n",
       "    <tr>\n",
       "      <td>5</td>\n",
       "      <td>2011-12-31</td>\n",
       "      <td>683083</td>\n",
       "      <td>75</td>\n",
       "      <td>52103</td>\n",
       "      <td>500</td>\n",
       "    </tr>\n",
       "    <tr>\n",
       "      <td>6</td>\n",
       "      <td>2012-12-31</td>\n",
       "      <td>685007</td>\n",
       "      <td>74</td>\n",
       "      <td>52578</td>\n",
       "      <td>582</td>\n",
       "    </tr>\n",
       "    <tr>\n",
       "      <td>7</td>\n",
       "      <td>2013-12-31</td>\n",
       "      <td>683401</td>\n",
       "      <td>71</td>\n",
       "      <td>52133</td>\n",
       "      <td>660</td>\n",
       "    </tr>\n",
       "    <tr>\n",
       "      <td>8</td>\n",
       "      <td>2014-12-31</td>\n",
       "      <td>682371</td>\n",
       "      <td>74</td>\n",
       "      <td>52135</td>\n",
       "      <td>738</td>\n",
       "    </tr>\n",
       "    <tr>\n",
       "      <td>9</td>\n",
       "      <td>2015-12-31</td>\n",
       "      <td>681763</td>\n",
       "      <td>79</td>\n",
       "      <td>51804</td>\n",
       "      <td>824</td>\n",
       "    </tr>\n",
       "  </tbody>\n",
       "</table>\n",
       "</div>"
      ],
      "text/plain": [
       "        year  apple_sold  apple_stolen  pen_sold  pen_stolen\n",
       "0 2006-12-31      681222            78     52555          91\n",
       "1 2007-12-31      681281            56     51939         159\n",
       "2 2008-12-31      685110            80     52032         230\n",
       "3 2009-12-31      682296            69     52411         316\n",
       "4 2010-12-31      680411            70     52600         392\n",
       "5 2011-12-31      683083            75     52103         500\n",
       "6 2012-12-31      685007            74     52578         582\n",
       "7 2013-12-31      683401            71     52133         660\n",
       "8 2014-12-31      682371            74     52135         738\n",
       "9 2015-12-31      681763            79     51804         824"
      ]
     },
     "execution_count": 361,
     "metadata": {},
     "output_type": "execute_result"
    }
   ],
   "source": [
    "year_agr_1 = pd.DataFrame({\n",
    "    'year' : every_year,\n",
    "    'apple_sold' : apple_sold.astype(int),\n",
    "    'apple_stolen': apple_stolen.astype(int),\n",
    "    'pen_sold': pen_sold.astype(int),\n",
    "    'pen_stolen' : pen_stolen.astype(int)\n",
    "})\n",
    "year_agr_1"
   ]
  },
  {
   "cell_type": "code",
   "execution_count": 362,
   "metadata": {},
   "outputs": [],
   "source": [
    "#Название файла 3 задания\n",
    "year_agr_st_b1 = 'MS-b1-year_agr_state_b1.csv'"
   ]
  },
  {
   "cell_type": "code",
   "execution_count": 363,
   "metadata": {},
   "outputs": [],
   "source": [
    "#Создание файла 3 задания\n",
    "year_agr_1.to_csv(year_agr_st_b1, sep = ';', index = False)"
   ]
  }
 ],
 "metadata": {
  "kernelspec": {
   "display_name": "Python 3",
   "language": "python",
   "name": "python3"
  },
  "language_info": {
   "codemirror_mode": {
    "name": "ipython",
    "version": 3
   },
   "file_extension": ".py",
   "mimetype": "text/x-python",
   "name": "python",
   "nbconvert_exporter": "python",
   "pygments_lexer": "ipython3",
   "version": "3.7.4"
  }
 },
 "nbformat": 4,
 "nbformat_minor": 2
}
